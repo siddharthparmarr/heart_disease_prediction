import numpy as np 
import pandas as pd
from sklearn.model_selection import train_test_split
from sklearn.linear_model import LogisticRegression
from sklearn.metrics import accuracy_score

#data collection and processing 
#loading csv data to pandas dataframe
heart_data = pd.read_csv('/content/heart-disease.csv')

heart_data.head()
heart_data.tail()
#number of rows and columns in data
heart_data.shape
heart_data.info()

  #cheking for missing values
heart_data.isnull().sum()
#checking the distribution of target variable
heart_data['target'].value_counts()
# 1 represents defective heart
#spliting the features and target
x = heart_data.drop(columns='target', axis=1)
y = heart_data['target']
print(x)
print(y)
